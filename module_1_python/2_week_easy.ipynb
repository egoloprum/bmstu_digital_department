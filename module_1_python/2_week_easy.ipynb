{
  "nbformat": 4,
  "nbformat_minor": 0,
  "metadata": {
    "colab": {
      "provenance": []
    },
    "kernelspec": {
      "name": "python3",
      "display_name": "Python 3"
    },
    "language_info": {
      "name": "python"
    }
  },
  "cells": [
    {
      "cell_type": "markdown",
      "source": [
        "#**2nd Week**"
      ],
      "metadata": {
        "id": "JZTkLaO2NwpH"
      }
    },
    {
      "cell_type": "markdown",
      "source": [
        "##**Задачи (Оба уровня)**\n",
        "\n",
        "Тест состоит из задач по темам \"Коллекции\", \"Списки, кортежи, словари\" и \"Даты и время\". Вам предстоит решить ряд задач, демонстрирующих ваше понимание пройденных тем.  Вы можете проходить тест неограниченное количество раз, и в зачет идет ваш лучший результат. Удачи!"
      ],
      "metadata": {
        "id": "PI54ahiVN5cn"
      }
    },
    {
      "cell_type": "markdown",
      "source": [
        "##**Коллекции. Списки**\n",
        "С клавиатуры подается 5 чисел, разделенных концом строки. Нужно вывести их на экран от большего к меньшему, также разделяя их концом строки.\n",
        "\n",
        "\n",
        "\n",
        "###**Формат ввода**\n",
        "12\n",
        "\n",
        "1\n",
        "\n",
        "45\n",
        "\n",
        "9\n",
        "\n",
        "10\n",
        "\n",
        "\n",
        "\n",
        "###**Формат вывода**\n",
        "45\n",
        "\n",
        "12\n",
        "\n",
        "10\n",
        "\n",
        "9\n",
        "\n",
        "1\n",
        "\n",
        ""
      ],
      "metadata": {
        "id": "LD9TiBw0OE5X"
      }
    },
    {
      "cell_type": "code",
      "execution_count": null,
      "metadata": {
        "id": "4cTXSjBKNobe"
      },
      "outputs": [],
      "source": [
        "count = 0\n",
        "\n",
        "array = []\n",
        "\n",
        "while (True):\n",
        "  num = input()\n",
        "  array.append(int(num))\n",
        "\n",
        "  count += 1\n",
        "\n",
        "  if (count == 5):\n",
        "    break\n",
        "\n",
        "array.sort(reverse=True)\n",
        "\n",
        "for a in array:\n",
        "  print(a)\n"
      ]
    },
    {
      "cell_type": "markdown",
      "source": [
        "##**Коллекции. Множества**\n",
        "С клавиатуры вводится строка, содержащая произвольное количество слов через запятую и пробел. Слова могут повторяться. Нужно вывести на экран все слова в алфавитном порядке по одному разу, также через пробел и запятую.\n",
        "\n",
        "\n",
        "\n",
        "###**Формат ввода**\n",
        "джек, воробей, капитан, джек, воробей\n",
        "\n",
        "\n",
        "\n",
        "###**Формат вывода**\n",
        "воробей, джек, капитан\n",
        "\n",
        "\n",
        "\n",
        "###**Примечания**\n",
        "Обратите внимание, что в примере у первого слова \"воробей\" стоит запятая, а у второго - нет. В решении такие случае следует учесть. Кроме того, слова могут быть написаны в разном регистре. Вывести их нужно в нижнем регистре. Одинаковые слова, написанные в разных регистрах, считаем одинаковыми."
      ],
      "metadata": {
        "id": "ilzGBpmIOTNQ"
      }
    },
    {
      "cell_type": "code",
      "source": [
        "my_str = input()\n",
        "\n",
        "my_str = [item.strip().lower() for item in my_str.split(',') if item.strip()]\n",
        "\n",
        "my_set = set(my_str)\n",
        "\n",
        "my_string = ', '.join(sorted(my_set))\n",
        "\n",
        "print(my_string)\n"
      ],
      "metadata": {
        "id": "pUW-9kDQOY4h"
      },
      "execution_count": null,
      "outputs": []
    },
    {
      "cell_type": "markdown",
      "source": [
        "##**Коллекции. Пересечение списков**\n",
        "Напишите программу, которая принимает на вход две строки, каждая из которых представляет собой список целых чисел, разделенных пробелами. Программа должна вывести список общих элементов этих списков в порядке возрастания. Если общих элементов нет, программа должна вывести сообщение: \"Общих элементов нет\".\n",
        "\n",
        "\n",
        "\n",
        "###**Формат ввода**\n",
        "1 2 3 4 5\n",
        "3 5 7 9 11\n",
        "\n",
        "\n",
        "###**Формат вывода**\n",
        "Общие элементы: 3 5\n",
        ""
      ],
      "metadata": {
        "id": "glenbfT5ObyJ"
      }
    },
    {
      "cell_type": "code",
      "source": [
        "num1 = input().split(' ')\n",
        "num2 = input().split(' ')\n",
        "\n",
        "num1 = [int(element) for element in num1]\n",
        "num2 = [int(element) for element in num2]\n",
        "\n",
        "num1 = set(num1)\n",
        "num2 = set(num2)\n",
        "\n",
        "same_elements = [element for element in num1 if element in num2]\n",
        "\n",
        "if same_elements:\n",
        "    same_elements = sorted(same_elements)  # Sort the list\n",
        "    same_elements_str = ' '.join(map(str, same_elements))  # Convert the list to a string\n",
        "    print('Общие элементы:', same_elements_str)\n",
        "else:\n",
        "    print('Общих элементов нет')"
      ],
      "metadata": {
        "id": "NCD814hYQL_g"
      },
      "execution_count": null,
      "outputs": []
    },
    {
      "cell_type": "markdown",
      "source": [
        "##**Коллекции. Словари**\n",
        "С клавиатуры вводятся слова через запятую с пробелом. Выведите на экран три наиболее часто встречаемых слова, вместе с количеством этих слов. Количество должно быть отделено от слова двоеточием и пробелом. Каждая пара слово-количество должна быть выведена на отдельной строчке. Для простоты гарантируется, что в строке нет слов с одинаковой встречаемостью.\n",
        "\n",
        "\n",
        "\n",
        "###**Формат ввода**\n",
        "три, три, и, ещё, три, будет, дырка, и, будет, и, дырка, и, дырка, и, дырка\n",
        "\n",
        "\n",
        "\n",
        "###**Формат вывода**\n",
        "и: 5\n",
        "\n",
        "дырка: 4\n",
        "\n",
        "три: 3\n",
        "\n",
        "\n",
        "\n",
        "###**Примечания**\n",
        "Рекомендация: чтобы быстрее решить задачу, нужно составить словарь, в котором ключами будут встреченные слова, а значениями - их количество в строке. Далее работайте с этим словарем по своему усмотрению. Далее один из вариантов - отсортировать кортежи, в которых на первом месте стоит количество слов, а на втором - сами слова.\n",
        "\n",
        "Учтите, что различных слов в строке может быть меньше трех. В этом случае нужно вывести все."
      ],
      "metadata": {
        "id": "Lk2YB3XiOqns"
      }
    },
    {
      "cell_type": "code",
      "source": [
        "from collections import Counter\n",
        "\n",
        "words = input().split(', ')\n",
        "\n",
        "word_freq = Counter(word.strip() for word in words)\n",
        "\n",
        "for word, freq in word_freq.most_common(3):\n",
        "    print(f\"{word}: {freq}\")"
      ],
      "metadata": {
        "id": "5k31-aNdOt7l"
      },
      "execution_count": null,
      "outputs": []
    },
    {
      "cell_type": "markdown",
      "source": [
        "##**Даты**\n",
        "С клавиатуры вводится дата в формате DD-MM-YYYY. Нужно вывести дату начала недели, к которой относится введенная дата (дата понедельника недели), в таком же формате.\n",
        "\n",
        "\n",
        "\n",
        "###**Формат ввода**\n",
        "22-09-2022\n",
        "\n",
        "\n",
        "\n",
        "###**Формат вывода**\n",
        "19-09-2022\n",
        "\n",
        "\n",
        "\n",
        "###**Примечания**\n",
        "Если введен понедельник - нужно вывести его же."
      ],
      "metadata": {
        "id": "RiX7PZ9jRM7v"
      }
    },
    {
      "cell_type": "code",
      "source": [
        "from datetime import datetime, timedelta\n",
        "\n",
        "date_str = input()\n",
        "date_obj = datetime.strptime(date_str, \"%d-%m-%Y\")\n",
        "\n",
        "monday_obj = date_obj - timedelta(days=date_obj.weekday())\n",
        "\n",
        "monday_str = monday_obj.strftime(\"%d-%m-%Y\")\n",
        "\n",
        "print(monday_str)"
      ],
      "metadata": {
        "id": "Yk59_QXfRSwV"
      },
      "execution_count": null,
      "outputs": []
    }
  ]
}