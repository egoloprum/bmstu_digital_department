{
  "nbformat": 4,
  "nbformat_minor": 0,
  "metadata": {
    "colab": {
      "provenance": []
    },
    "kernelspec": {
      "name": "python3",
      "display_name": "Python 3"
    },
    "language_info": {
      "name": "python"
    }
  },
  "cells": [
    {
      "cell_type": "markdown",
      "source": [
        "#**1st Week**"
      ],
      "metadata": {
        "id": "JZTkLaO2NwpH"
      }
    },
    {
      "cell_type": "markdown",
      "source": [
        "##**Задачи (оба уровня)**\n",
        "\n",
        "Тест состоит из задач по темам \"Синтаксис Python\", \"Типы данных\" и \"Строки\". Вам предстоит решить ряд задач, демонстрирующих ваше понимание пройденных тем.  Вы можете проходить тест неограниченное количество раз, и в зачет идет ваш лучший результат. Удачи!"
      ],
      "metadata": {
        "id": "PI54ahiVN5cn"
      }
    },
    {
      "cell_type": "markdown",
      "source": [
        "##**Синтаксис. Сложение четных чисел**\n",
        "\n",
        "На вход с клавиатуры подаются числа (по одному). Нужно вывести на экран сумму всех четных чисел. Ввод прекращается, если введена строка \"end\". При любой ситауации, когда не попадаются четные числа, вывести на экран нужно 0 (например, числа не были введены вообще или были введены только нечетные числа).\n",
        "\n",
        "###**Формат ввода**\n",
        "1\n",
        "2\n",
        "3\n",
        "4\n",
        "5\n",
        "6\n",
        "7\n",
        "8\n",
        "\n",
        "###**Формат вывода**\n",
        "20\n",
        "\n",
        "###**Примечания**\n",
        "Ответ проверяется для целочисенного типа данных посимвольно. Т.е., допустим, ответ 100 будет правильным, в то время как 100.0 выдаст ошибку, поскольку он отличается от правильного на два символа .0"
      ],
      "metadata": {
        "id": "LD9TiBw0OE5X"
      }
    },
    {
      "cell_type": "code",
      "execution_count": null,
      "metadata": {
        "id": "4cTXSjBKNobe"
      },
      "outputs": [],
      "source": [
        "list = []\n",
        "str = []\n",
        "\n",
        "while (str != 'end'):\n",
        "  str = input()\n",
        "  try:\n",
        "    num = int(str)\n",
        "    list.append(num)\n",
        "  except Exception:\n",
        "    if not (str == 'end'):\n",
        "      print(\"silly goose try again.\")\n",
        "\n",
        "sum = 0\n",
        "\n",
        "for num in list:\n",
        "  if num % 2 == 0:\n",
        "    sum += num\n",
        "\n",
        "print(sum)\n"
      ]
    },
    {
      "cell_type": "markdown",
      "source": [
        "##**Синтаксис. Ввод и вывод данных**\n",
        "Напишите скрипт, который считывает строку с клавиатуры. Выведите на экран \"привет\", если введенная строка совпадает со строкой \"привет\" или \"здравствуйте\". Если введено что угодно другое, ничего выводить не нужно.\n",
        "\n",
        "###**Формат ввода**\n",
        "привет\n",
        "\n",
        "###**Формат вывода**\n",
        "привет\n",
        "\n",
        ""
      ],
      "metadata": {
        "id": "ilzGBpmIOTNQ"
      }
    },
    {
      "cell_type": "code",
      "source": [
        "str = input()\n",
        "\n",
        "if ( str == 'привет' or str == 'здравствуйте' ):\n",
        "  print('привет')\n"
      ],
      "metadata": {
        "id": "pUW-9kDQOY4h"
      },
      "execution_count": null,
      "outputs": []
    },
    {
      "cell_type": "markdown",
      "source": [
        "##**Типы данных. Тест**\n",
        "Перечислите изменяемые типы данных в Python.\n",
        "\n",
        "![image.png](data:image/png;base64,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)"
      ],
      "metadata": {
        "id": "glenbfT5ObyJ"
      }
    },
    {
      "cell_type": "markdown",
      "source": [
        "##**Строки. Замена символов**\n",
        "С клавиатуры вводится строка. В строке заменить пробелы звездочкой. Если встречается подряд несколько пробелов, то их следует заменить одним знаком \"*\", пробелы в начале и конце строки удалить.\n",
        "\n",
        "##**Формат ввода**\n",
        "Какая-нибудь строка типа этой .\n",
        "\n",
        "##**Формат вывода**\n",
        "Какая-нибудь*строка*типа*этой*."
      ],
      "metadata": {
        "id": "Lk2YB3XiOqns"
      }
    },
    {
      "cell_type": "code",
      "source": [
        "str = input()\n",
        "\n",
        "str = str.split(' ')\n",
        "str = list(filter(None, str))\n",
        "\n",
        "new_str = ''\n",
        "\n",
        "for index in range(len(str)):\n",
        "  if not index == len(str) - 1:\n",
        "    new_str += str[index] + '*'\n",
        "  else:\n",
        "    new_str += str[index]\n",
        "\n",
        "print(new_str)\n"
      ],
      "metadata": {
        "id": "5k31-aNdOt7l"
      },
      "execution_count": null,
      "outputs": []
    },
    {
      "cell_type": "markdown",
      "source": [
        "##**Строки. Поиск подстрок**\n",
        "С клавиатуры вводится строка, а затем - подстрока. В строке найти все слова, в которых содержится заданная подстрока, и вывести эти слова целиком. Если слова повторяются, вывести все повторения.\n",
        "\n",
        "###**Формат ввода**\n",
        "Раз два три четыре пять\n",
        "а\n",
        "\n",
        "###**Формат вывода**\n",
        "Раз\n",
        "два\n",
        "\n",
        "###**Примечания**\n",
        "Регистр слов не должен учитываться. Но вывод слов должен производиться в том же виде, в котором они были поданы в первоначальной строке."
      ],
      "metadata": {
        "id": "jHJ1P2mvOyp9"
      }
    },
    {
      "cell_type": "code",
      "source": [
        "str = input()\n",
        "sub_str = input()\n",
        "\n",
        "try:\n",
        "  str = str.split(' ')\n",
        "except Exception:\n",
        "  ...\n",
        "\n",
        "new_str = []\n",
        "\n",
        "for s in str:\n",
        "  if sub_str.lower() in s.lower():\n",
        "    new_str.append(s)\n",
        "\n",
        "for new in new_str:\n",
        "  print(new)\n"
      ],
      "metadata": {
        "id": "iq3z53_3PBiU"
      },
      "execution_count": null,
      "outputs": []
    }
  ]
}