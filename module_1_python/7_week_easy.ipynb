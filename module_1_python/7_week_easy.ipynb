{
  "nbformat": 4,
  "nbformat_minor": 0,
  "metadata": {
    "colab": {
      "provenance": []
    },
    "kernelspec": {
      "name": "python3",
      "display_name": "Python 3"
    },
    "language_info": {
      "name": "python"
    }
  },
  "cells": [
    {
      "cell_type": "markdown",
      "source": [
        "#**7th Week**"
      ],
      "metadata": {
        "id": "JZTkLaO2NwpH"
      }
    },
    {
      "cell_type": "markdown",
      "source": [
        "#**Задачи (Оба уровня)**\n",
        "\n",
        "Тест состоит из задач по теме \"Сеть\". Вам предстоит решить ряд задач, демонстрирующих ваше понимание пройденной темы.  Вы можете проходить тест неограниченное количество раз, и в зачет идет ваш лучший результат. Удачи!\n"
      ],
      "metadata": {
        "id": "PI54ahiVN5cn"
      }
    },
    {
      "cell_type": "markdown",
      "source": [
        "##**Сеть. Конвертация валют**\n",
        "\n",
        "Необходимо разработать программу, которая позволяет пользователю конвертировать денежные средства из одной валюты в другую с помощью API.\n",
        "\n",
        "Функция `get_exchange_rate(base_currency, target_currency)`:\n",
        "\n",
        "Получает обозначения базовой (base_currency) и целевой (target_currency) валют, например - usd, EUR и т.д. Регистр обозначения валюты не должен влиять на работу программы. (См. документацию API - коды обозначений валют).\n",
        "\n",
        "Возвращает текущий курс обмена между указанными валютами. Округлять и форматировать результат не нужно. (Используйте API)\n",
        "\n",
        "Функция `convert_currency(base_currency, target_currency, amount)`:\n",
        "\n",
        "Получает обозначения валют и кол-во базовой валюты для конвертации\n",
        "Возвращает кол-во целевой валюты после конвертации. Округлить результат до двух знаков после запятой. (Используйте функцию get_exchange_rate для получения курса обмена валют)\n",
        "\n",
        "Для получения актуальных курсов обмена валют используйте бесплатный API - https://github.com/fawazahmed0/exchange-api. (Читайте документацию - README репозитория)\n",
        "\n",
        "###**Пример использования**\n",
        "```\n",
        "base_currency = \"USD\"  # Валюта, из которой нужно конвертировать\n",
        "target_currency = \"eur\"  # Валюта, в которую нужно конвертировать\n",
        "exchange_rate = get_exchange_rate(base_currency, target_currency)\n",
        "\n",
        "print(f\"Текущий курс {base_currency} к {target_currency}: {exchange_rate}\")\n",
        "# Вывод: Текущий курс USD к EUR: 0.9189\n",
        "\n",
        "amount = 20 # Вводим кол-во базовой валюты, в данном примере - 20 USD\n",
        "converted_amount = convert_currency(base_currency, target_currency, amount)\n",
        "\n",
        "print(f\"{amount} {base_currency} равно {converted_amount} {target_currency}\")\n",
        "# 20 USD равно 18.38 EUR\n",
        "```\n",
        ""
      ],
      "metadata": {
        "id": "F0E3_dHdapDl"
      }
    },
    {
      "cell_type": "code",
      "execution_count": null,
      "metadata": {
        "id": "4cTXSjBKNobe"
      },
      "outputs": [],
      "source": [
        "def get_exchange_rate(base_currency, target_currency):\n",
        "  base_currency = base_currency.lower()\n",
        "  target_currency = target_currency.lower()\n",
        "  url = f\"https://cdn.jsdelivr.net/npm/@fawazahmed0/currency-api@latest/v1/currencies/{base_currency}.min.json\"\n",
        "  response = requests.get(url)\n",
        "  if response.status_code == 200:\n",
        "    data = response.json()\n",
        "    if target_currency in data[base_currency]:\n",
        "      return data[base_currency][target_currency]\n",
        "    else:\n",
        "      raise ValueError(f\"Целевая валюта ({target_currency.upper()}) не найдена в данных API.\")\n",
        "  else:\n",
        "    raise ValueError(\"Ошибка при запросе к API.\")\n",
        "\n",
        "def convert_currency(base_currency, target_currency, amount):\n",
        "  exchange_rate = get_exchange_rate(base_currency, target_currency)\n",
        "  if exchange_rate is None:\n",
        "    raise ValueError(\"Невозможно получить курс обмена валют\")\n",
        "  converted_amount = round(amount * exchange_rate, 2)\n",
        "  return converted_amount"
      ]
    },
    {
      "cell_type": "markdown",
      "source": [
        "##**Сеть**\n",
        "\n",
        "Здесь описано некоторое API, в котором есть доступ к базе пользователей, постов, комментариев и т.д. Методы, которые мы будем использовать, описаны в разделе Resources. Примеры использования API (правда, на JavaScript'е) описаны на том же сайте по ссылке Guide. Вам нужно для каждого пользователя посчитать количество оставленных постов и количество оставленных комментариев. Всю информацию для этого нужно стягивать GET-запросами по API. Результат нужно отправить в ваше пространство в https://webhook.site в виде POST-запроса, содержащего JSON следующего формата:\n",
        "```\n",
        "  \"statistics\": [\n",
        "    {\n",
        "      \"id\": 1,\n",
        "      \"username\": \"lolkek\",\n",
        "      \"email\": \"user1@mail.dot\",\n",
        "      \"posts\": 125,\n",
        "      \"comments\": 1358\n",
        "    },\n",
        "    {\n",
        "      \"id\": 2,\n",
        "      \"username\": \"cheburek\",\n",
        "      \"email\": \"user2@mail.dot\",\n",
        "      \"posts\": 5,\n",
        "      \"comments\": 12\n",
        "    }\n",
        "  ]\n",
        "```\n",
        "\n",
        "Задача - реализовать функцию `process_user_data()`, которая собирает информацию о пользователях из публичного API и отправляет статистику о каждом пользователе на заданный вебхук. Функция должна возвращать response объект ответа запроса -\n",
        "`return requests.post(.....)`\n",
        "\n",
        "Реализуйте функцию , которая возвращает результат в виде JSON следующего формата:\n",
        "\n",
        "###**Пример использования**\n",
        "```\n",
        "# пример вызова функции\n",
        "response = process_user_data()\n",
        "```"
      ],
      "metadata": {
        "id": "ilzGBpmIOTNQ"
      }
    },
    {
      "cell_type": "code",
      "source": [
        "import requests\n",
        "\n",
        "def process_user_data():\n",
        "    # Получаем список пользователей\n",
        "    users_list = requests.get('https://jsonplaceholder.typicode.com/users')\n",
        "    users = users_list.json()\n",
        "\n",
        "    # Получаем список постов\n",
        "    posts_list = requests.get('https://jsonplaceholder.typicode.com/posts')\n",
        "    posts = posts_list.json()\n",
        "\n",
        "    # Получаем список комментариев\n",
        "    comments_list = requests.get('https://jsonplaceholder.typicode.com/comments')\n",
        "    comments = comments_list.json()\n",
        "\n",
        "    # Составляем статистику по пользователям\n",
        "    user_statistics = []\n",
        "\n",
        "    # Для каждого пользователя собираем статистику\n",
        "    for user in users:\n",
        "        user_id = user['id']\n",
        "        username = user['username']\n",
        "        email = user['email']\n",
        "\n",
        "        # Считаем количество постов для пользователя\n",
        "        post_count = sum(1 for post in posts if post['userId'] == user_id)\n",
        "\n",
        "        # Считаем количество комментариев для пользователя\n",
        "        comment_count = sum(1 for comment in comments if any(post['userId'] == user_id for post in posts if post['id'] == comment['email']))\n",
        "\n",
        "        # Добавляем статистику пользователя в список\n",
        "        user_statistics.append({\n",
        "            'id': user_id,\n",
        "            'username': username,\n",
        "            'email': email,\n",
        "            'posts': post_count,\n",
        "            'comments': comment_count\n",
        "        })\n",
        "\n",
        "    # Подготавливаем данные для отправки\n",
        "    data = {\n",
        "        'statistics': user_statistics\n",
        "    }\n",
        "\n",
        "    # URL для отправки данных (webhook URL)\n",
        "    url = 'https://webhook.site/d779d06f-d643-4e82-8923-d5db5ad276a4'  # Ваш URL webhook\n",
        "\n",
        "    # Отправляем POST запрос с данными\n",
        "    response = requests.post(url, json=data)\n",
        "\n",
        "    return response\n",
        "\n"
      ],
      "metadata": {
        "id": "pUW-9kDQOY4h"
      },
      "execution_count": null,
      "outputs": []
    }
  ]
}