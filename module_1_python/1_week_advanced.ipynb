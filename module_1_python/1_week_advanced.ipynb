{
  "nbformat": 4,
  "nbformat_minor": 0,
  "metadata": {
    "colab": {
      "provenance": []
    },
    "kernelspec": {
      "name": "python3",
      "display_name": "Python 3"
    },
    "language_info": {
      "name": "python"
    }
  },
  "cells": [
    {
      "cell_type": "markdown",
      "source": [
        "#**1st Week**"
      ],
      "metadata": {
        "id": "JZTkLaO2NwpH"
      }
    },
    {
      "cell_type": "markdown",
      "source": [
        "##**Задачи (продвинутый уровень)**\n",
        "\n",
        "Тест состоит из задач по темам \"Синтаксис Python\", \"Типы данных\" и \"Строки\". Вам предстоит решить ряд задач, демонстрирующих ваше понимание пройденных тем.  Вы можете проходить тест неограниченное количество раз, и в зачет идет ваш лучший результат. Удачи!"
      ],
      "metadata": {
        "id": "PI54ahiVN5cn"
      }
    },
    {
      "cell_type": "markdown",
      "source": [
        "##**Типы данных. Простая арифметика**\n",
        "На вход поступает математическое выражение в виде \"число1 операция число2\", где:\n",
        "\n",
        "число1 - целое число, больше или равно нулю\n",
        "операция - один из символов: +, -, *, /, %\n",
        "число2 - дробное число, больше или равно нулю\n",
        "Программа должна вычислить результат выражения. Если в результате выражения больше 2 знаков после запятой, округлить его до двух знаков после запятой.\n",
        "\n",
        "В случае деления на 0, программа должна вывести сообщение: \"Деление на ноль невозможно.\" Если пользователь введет неверную операцию, программа должна вывести сообщение: \"Неверная операция.\"\n",
        "\n",
        "\n",
        "\n",
        "###**Формат ввода**\n",
        "12 + 14.56\n",
        "\n",
        "\n",
        "\n",
        "###**Формат вывода**\n",
        "Результат: 26.56\n",
        "\n",
        ""
      ],
      "metadata": {
        "id": "LD9TiBw0OE5X"
      }
    },
    {
      "cell_type": "code",
      "execution_count": null,
      "metadata": {
        "id": "4cTXSjBKNobe"
      },
      "outputs": [],
      "source": [
        "def calculate_expression(expression):\n",
        "    try:\n",
        "        num1, operation, num2 = expression.split()\n",
        "        num1 = int(num1)\n",
        "        num2 = float(num2)\n",
        "\n",
        "        if operation == '+':\n",
        "            result = num1 + num2\n",
        "        elif operation == '-':\n",
        "            result = num1 - num2\n",
        "        elif operation == '*':\n",
        "            result = num1 * num2\n",
        "        elif operation == '/':\n",
        "            if num2 == 0:\n",
        "                return \"Деление на ноль невозможно.\"\n",
        "            result = num1 / num2\n",
        "        elif operation == '%':\n",
        "            if num2 == 0:\n",
        "                return \"Деление на ноль невозможно.\"\n",
        "            result = num1 % num2\n",
        "        else:\n",
        "            return \"Неверная операция.\"\n",
        "\n",
        "        if result % 1 == 0:\n",
        "            return f\"Результат: {format(result, '.1f')}\"\n",
        "        else:\n",
        "            return f\"Результат: {format(result, '.2f')}\"\n",
        "    except ValueError:\n",
        "        return \"Неверная операция.\"\n",
        "\n",
        "print(calculate_expression(input()))\n"
      ]
    },
    {
      "cell_type": "markdown",
      "source": [
        "##**Строки. Формирование URL-адреса**\n",
        "С клавиатуры вводится две строки:\n",
        "\n",
        "Раздел сайта (например, \"articles\", \"blog\", \"news\")\n",
        "Заголовок статьи (например, \"How to write a program in Python\"). Заголовок статьи не содержит знаков препинания.\n",
        "Программа должна сгенерировать URL-адрес для сайта https://www.mycoolsyte.com/, который будет иметь следующий формат: https://www.mycoolsyte.com/<раздел>/<заголовок-статьи>;. Преобразуйте заголовок в соответствие с примером.\n",
        "\n",
        "\n",
        "\n",
        "###**Формат ввода**\n",
        "articles\n",
        "\n",
        "How to write a program in Python\n",
        "\n",
        "\n",
        "\n",
        "###**Формат вывода**\n",
        "Созданный URL: https://www.mycoolsyte.com/articles/how-to-write-a-program-in-python\n",
        ""
      ],
      "metadata": {
        "id": "ilzGBpmIOTNQ"
      }
    },
    {
      "cell_type": "code",
      "source": [
        "str = input()\n",
        "\n",
        "if ( str == 'привет' or str == 'здравствуйте' ):\n",
        "  print('привет')\n"
      ],
      "metadata": {
        "id": "pUW-9kDQOY4h"
      },
      "execution_count": null,
      "outputs": []
    },
    {
      "cell_type": "markdown",
      "source": [
        "##**Строки. Анализ сложности пароля**\n",
        "Напишите программу, которая принимает пароль в качестве входных данных с терминала и проверяет его сложность, проверяя на следующие условия:\n",
        "\n",
        "Длина: Пароль должен быть не менее 8 символов. Если длина пароля меньше 8 символов, он считается слабым.\n",
        "Критерии сложности: Пароль должен содержать хотя бы один символ из каждого из следующих типов:\n",
        "Прописные буквы (A-Z)\n",
        "Строчные буквы (a-z)\n",
        "Цифры (0-9)\n",
        "Специальные символы (!@#$%^&*(),.?\":{}|<>)\n",
        "Вывод:\n",
        "\n",
        "Программа должна выводить одну из следующих оценок:\n",
        "\n",
        "\"Сильный пароль\": Пароль удовлетворяет всем критериям сложности.\n",
        "\"Средний пароль\": Пароль удовлетворяет хотя бы 3 из 4 критериев сложности.\n",
        "\"Слабый пароль\": Пароль удовлетворяет менее 3 критериев сложности.\n",
        "\n",
        "\n",
        "###**Формат ввода**\n",
        "password123\n",
        "\n",
        "\n",
        "\n",
        "###**Формат вывода**\n",
        "Слабый пароль"
      ],
      "metadata": {
        "id": "glenbfT5ObyJ"
      }
    },
    {
      "cell_type": "code",
      "source": [
        "import re\n",
        "\n",
        "def password_strength(password):\n",
        "    if len(password) < 8:\n",
        "        return \"Слабый пароль\"\n",
        "\n",
        "    has_uppercase = False\n",
        "    has_lowercase = False\n",
        "    has_digit = False\n",
        "    has_special_char = False\n",
        "\n",
        "    for char in password:\n",
        "        if re.match(r'[A-Z]', char):\n",
        "            has_uppercase = True\n",
        "        elif re.match(r'[a-z]', char):\n",
        "            has_lowercase = True\n",
        "        elif re.match(r'\\d', char):\n",
        "            has_digit = True\n",
        "        elif re.match(r'[!@#$%^&*(),.?\":{}|<>]', char):\n",
        "            has_special_char = True\n",
        "\n",
        "    criteria_satisfied = sum([has_uppercase, has_lowercase, has_digit, has_special_char])\n",
        "\n",
        "    if criteria_satisfied == 4:\n",
        "        return \"Сильный пароль\"\n",
        "    elif criteria_satisfied >= 3:\n",
        "        return \"Средний пароль\"\n",
        "    else:\n",
        "        return \"Слабый пароль\"\n",
        "\n",
        "password = input()\n",
        "\n",
        "print(password_strength(password))"
      ],
      "metadata": {
        "id": "NCD814hYQL_g"
      },
      "execution_count": null,
      "outputs": []
    },
    {
      "cell_type": "markdown",
      "source": [
        "##**Строки. Анаграммы**\n",
        "Напишите программу на Python, которая принимает на вход два слова и определяет, являются ли эти слова анаграммами друг друга (регистр букв игнорируется). Анаграмма - это слово или фраза, образованные перестановкой букв другого слова или фразы. Например, \"listen\" и \"silent\" являются анаграммами друг друга, так как они состоят из одних и тех же букв, расположенных в другом порядке.\n",
        "\n",
        "Программа должна выводить результат в виде сообщения \"Слова являются анаграммами.\" или \"Слова не являются анаграммами.\".\n",
        "\n",
        "\n",
        "\n",
        "###**Формат ввода**\n",
        "listen\n",
        "\n",
        "silent\n",
        "\n",
        "\n",
        "\n",
        "###**Формат вывода**\n",
        "Слова являются анаграммами.\n",
        "\n",
        "\n",
        "\n",
        "###**Примечания**\n",
        "Количество одинаковых букв в словах должно быть одинаковым для того, чтобы они считались анаграммами. Например, слова \"aabba\" и \"aabbb\" не являются анаграммами, так как в первом слове две буквы \"a\", а во втором - три."
      ],
      "metadata": {
        "id": "Lk2YB3XiOqns"
      }
    },
    {
      "cell_type": "code",
      "source": [
        "def are_anagrams(word1, word2):\n",
        "    word1 = word1.lower()\n",
        "    word2 = word2.lower()\n",
        "\n",
        "    return sorted(word1) == sorted(word2)\n",
        "\n",
        "# Get two words from user input\n",
        "word1 = input()\n",
        "word2 = input()\n",
        "\n",
        "# Check if the words are anagrams\n",
        "if are_anagrams(word1, word2):\n",
        "    print(\"Слова являются анаграммами.\")\n",
        "else:\n",
        "    print(\"Слова не являются анаграммами.\")"
      ],
      "metadata": {
        "id": "5k31-aNdOt7l"
      },
      "execution_count": null,
      "outputs": []
    }
  ]
}