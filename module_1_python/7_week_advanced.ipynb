{
  "nbformat": 4,
  "nbformat_minor": 0,
  "metadata": {
    "colab": {
      "provenance": []
    },
    "kernelspec": {
      "name": "python3",
      "display_name": "Python 3"
    },
    "language_info": {
      "name": "python"
    }
  },
  "cells": [
    {
      "cell_type": "markdown",
      "source": [
        "#**7th Week**"
      ],
      "metadata": {
        "id": "JZTkLaO2NwpH"
      }
    },
    {
      "cell_type": "markdown",
      "source": [
        "#**Задачи (Продвинутый уровень)**\n",
        "\n",
        "Тест состоит из продвинутых задач по темам \"Декораторы\", \"Сеть\". Вам предстоит решить ряд задач, демонстрирующих ваше понимание пройденных тем.  Вы можете проходить тест неограниченное количество раз, и в зачет идет ваш лучший результат. Удачи!\n"
      ],
      "metadata": {
        "id": "PI54ahiVN5cn"
      }
    },
    {
      "cell_type": "markdown",
      "source": [
        "##**Декораторы. Измерение времени выполнения функции**\n",
        "\n",
        "Вам необходимо решить классическую задачу с собеседований по питону - написать декоратор, который вычисляет время выполнения оборачиваемой функции. Итак, требования к декоратору:\n",
        "\n",
        "- декоратор должен называться time_decorator\n",
        "- он должен вычислять время в секундах, в течение которого выполняется обернутая функция при ее вызове. Количество секунд должно быть выведено сразу после выполнения оборачиваемой функции. Количество секунд следует округлять до целого числа и выводить целое число\n",
        "- после оборачивания функция должна возвращать тот же результат, который возвращала исходная функция\n",
        "- пробрасывать аргументы из декоратора в функцию необязательно для выполнения этого задания\n",
        "\n",
        "###**Пример использования декоратора**\n",
        "```\n",
        "# Оборачиваем функцию в декоратор\n",
        "@time_decorator\n",
        "def sleep_1_sec():\n",
        "    time.sleep(1)\n",
        "    print(\"function\")\n",
        "    return 25\n",
        "\n",
        "\n",
        "result = sleep_1_sec()\n",
        "# Выведет\n",
        "# function\n",
        "# 1\n",
        "\n",
        "print(result)  # Вывод: 25\n",
        "```\n",
        ""
      ],
      "metadata": {
        "id": "F0E3_dHdapDl"
      }
    },
    {
      "cell_type": "code",
      "execution_count": null,
      "metadata": {
        "id": "4cTXSjBKNobe"
      },
      "outputs": [],
      "source": [
        "import time\n",
        "\n",
        "def time_decorator(func):\n",
        "    def wrapper():\n",
        "        start_time = time.time()  # Record the start time\n",
        "        result = func()  # Call the wrapped function\n",
        "        end_time = time.time()  # Record the end time\n",
        "        execution_time = round(end_time - start_time)  # Calculate and round the execution time\n",
        "        print(execution_time)  # Print the execution time\n",
        "        return result  # Return the result of the wrapped function\n",
        "    return wrapper\n",
        "\n"
      ]
    },
    {
      "cell_type": "markdown",
      "source": [
        "##**Декораторы. Фабрика декораторов**\n",
        "\n",
        "В этом задании требуется написать фабрику декораторов, которые будут логировать вызовы функций. Чтобы не усложнять, в качестве журнала событий будем использовать списки. Требования к фабрике:\n",
        "\n",
        "- фабрика должна называться logging_decorator\n",
        "- при создании декоратора фабрика должна принять требуемый список-логгер в аргументах\n",
        "- обернутая функция должна возвращать тот же результат, который бы вернула оборачиваемая функция\n",
        "- при вызове обернутой функции в список-логгер должен добавляться словарь, в котором будут храниться название функции, список поданных аргументов, время вызова функции и результат, который она вернула. Формат словаря должен быть таким:\n",
        "```\n",
        "{\n",
        "    'name': 'test_function',\n",
        "    'arguments': {'a': 1, 'b': 2},\n",
        "    'call_time': datetime.datetime(2021, 8, 1, 18, 18, 7, 849184),\n",
        "    'result': 127\n",
        "}\n",
        "```\n",
        "\n",
        "Ниже приведен пример использования такого декоратора.\n",
        "\n",
        "###**Пример использования декоратора**\n",
        "```\n",
        "logger = []  # этот словарь будет хранить наш \"лог\"\n",
        "\n",
        "@logging_decorator(logger)  # в аргументы фабрики декораторов подается логгер\n",
        "def test_simple(a, b=2):\n",
        "    return 127\n",
        "\n",
        "test_simple(1)  # при вызове функции в список logger должен добавиться словарь с\n",
        "                # информацией о вызове функции\n",
        "\n",
        "print(logger)\n",
        "[{'name': 'test_simple', 'arguments': {'a': 1, 'b': 2}, 'call_time': datetime.datetime(2021, 8, 1, 18, 18, 7, 849184), 'result': 127}]\n",
        "```\n",
        "\n",
        "###**Примечания**\n",
        "\n",
        "Для удобного получения переданных в функцию аргументов при ее вызове можно использовать функцию `getcallargs` из модуля `inspect`. Но стоит учесть, что она так или иначе выполняет вызов исследуемой функции, поэтому такой способ плох, если функция изменяет какие-то глобальные состояния. В тестах к этому заданию таких функций нет, поэтому можно попрактиковаться в использовании модуля `inspect`.\n",
        "\n",
        ""
      ],
      "metadata": {
        "id": "ilzGBpmIOTNQ"
      }
    },
    {
      "cell_type": "code",
      "source": [
        "import datetime\n",
        "import inspect\n",
        "\n",
        "def logging_decorator(logger):\n",
        "    def decorator(func):\n",
        "        def wrapper(*args, **kwargs):\n",
        "            call_time = datetime.datetime.now()  # Capture the call time\n",
        "            result = func(*args, **kwargs)  # Execute the wrapped function\n",
        "\n",
        "            # Use inspect to get arguments passed to the function\n",
        "            arguments = inspect.signature(func).bind(*args, **kwargs)\n",
        "            arguments.apply_defaults()\n",
        "\n",
        "            # Log the function call details\n",
        "            logger.append({\n",
        "                'name': func.__name__,\n",
        "                'arguments': dict(arguments.arguments),\n",
        "                'call_time': call_time,\n",
        "                'result': result\n",
        "            })\n",
        "\n",
        "            return result  # Return the function's result\n",
        "        return wrapper\n",
        "    return decorator\n"
      ],
      "metadata": {
        "id": "pUW-9kDQOY4h"
      },
      "execution_count": null,
      "outputs": []
    },
    {
      "cell_type": "markdown",
      "source": [
        "##**Декораторы. Кэширование**\n",
        "\n",
        "Реализуйте декоратор `@cache_results`, который будет кэшировать результаты функции на основе её аргументов. Если функция вызывается с теми же аргументами повторно, декоратор должен возвращать результат из кэша, а не выполнять функцию снова.\n",
        "\n",
        "**Требования:**\n",
        "\n",
        "- При первом вызове функции с определенными аргументами, декоратор должен выполнить функцию, сохранить результат в кэше и вывести сообщение Выполнено за {кол-во секунд} секунды.\n",
        "\n",
        "- При повторном вызове функции с теми же аргументами, декоратор должен вернуть результат из кэша и вывести сообщение Результат взят из кэша. (Функция должна выполниться моментально, здесь замерять время не нужно)\n",
        "\n",
        "В этой задаче работаем с функциями, принимающими любое количество аргументов.\n",
        "\n",
        "###**Пример использования декоратора**\n",
        "```\n",
        "@cache_results\n",
        "def slow_function(x):\n",
        "    time.sleep(2)  # Симулируем долгую обработку\n",
        "    return x * 2\n",
        "\n",
        "result = slow_function(25)\n",
        "# Вывод: Выполнено за 2 секунды\n",
        "\n",
        "print(result)  # Вывод: 625\n",
        "\n",
        "\n",
        "result2 = slow_function(25)\n",
        "# Вывод: Результат взят из кэша\n",
        "\n",
        "print(result2)  # Вывод: 625\n",
        "```"
      ],
      "metadata": {
        "id": "sKVdbBbDiArY"
      }
    },
    {
      "cell_type": "code",
      "source": [
        "import datetime\n",
        "import inspect\n",
        "import time\n",
        "\n",
        "def logging_decorator(logger):\n",
        "    def decorator(func):\n",
        "        def wrapper(*args, **kwargs):\n",
        "            call_time = datetime.datetime.now()  # Capture the call time\n",
        "            result = func(*args, **kwargs)  # Execute the wrapped function\n",
        "\n",
        "            # Use inspect to get arguments passed to the function\n",
        "            arguments = inspect.signature(func).bind(*args, **kwargs)\n",
        "            arguments.apply_defaults()\n",
        "\n",
        "            # Log the function call details\n",
        "            logger.append({\n",
        "                'name': func.__name__,\n",
        "                'arguments': dict(arguments.arguments),\n",
        "                'call_time': call_time,\n",
        "                'result': result\n",
        "            })\n",
        "\n",
        "            return result  # Return the function's result\n",
        "        return wrapper\n",
        "    return decorator\n",
        "\n",
        "def cache_results(func):\n",
        "    cache = {}\n",
        "\n",
        "    def wrapper(*args, **kwargs):\n",
        "        key = (args, frozenset(kwargs.items()))  # Create a cache key based on arguments\n",
        "        if key in cache:\n",
        "            print(\"Результат взят из кэша.\")\n",
        "            return cache[key]\n",
        "\n",
        "        start_time = time.time()\n",
        "        result = func(*args, **kwargs)  # Execute the function\n",
        "        end_time = time.time()\n",
        "\n",
        "        cache[key] = result  # Cache the result\n",
        "        print(f\"Выполнено за {round(end_time - start_time)} секунды.\")\n",
        "        return result\n",
        "\n",
        "    return wrapper\n",
        "\n"
      ],
      "metadata": {
        "id": "GiBEwv5diSFo"
      },
      "execution_count": null,
      "outputs": []
    }
  ]
}