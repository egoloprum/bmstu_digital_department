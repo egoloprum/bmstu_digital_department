{
  "nbformat": 4,
  "nbformat_minor": 0,
  "metadata": {
    "colab": {
      "provenance": []
    },
    "kernelspec": {
      "name": "python3",
      "display_name": "Python 3"
    },
    "language_info": {
      "name": "python"
    }
  },
  "cells": [
    {
      "cell_type": "markdown",
      "source": [
        "#**4th Week**"
      ],
      "metadata": {
        "id": "JZTkLaO2NwpH"
      }
    },
    {
      "cell_type": "markdown",
      "source": [
        "##**Задачи (Оба уровня)**\n",
        "\n",
        "Тест состоит из задач по темам \"Файлы\", \"JSON\" и \"YAML\". Вам предстоит решить ряд задач, демонстрирующих ваше понимание пройденных тем.  Вы можете проходить тест неограниченное количество раз, и в зачет идет ваш лучший результат. Удачи!\n",
        "\n"
      ],
      "metadata": {
        "id": "PI54ahiVN5cn"
      }
    },
    {
      "cell_type": "markdown",
      "source": [
        "##**Регулярные выражения. Номер телефона и электронная почта**\n",
        "\n",
        "Написать функцию, которая на вход принимает строку, а на выход выдает булево значение (True или False), которое истинно, если полученная строка соответствует российскому номеру телефона или адресу электронной почты.\n",
        "\n",
        "Сигнатура функции:\n",
        "```\n",
        "check_string(string) -> bool\n",
        "```\n",
        "\n",
        "###**Пример использования**\n",
        "```\n",
        "check_string(\"+7-916-000-00-00\")  # должна вернуть True\n",
        "```\n",
        "\n",
        "###**Примечания**\n",
        "\n",
        "Допустимые форматы телефонов. Код страны - всегда либо 7, либо 8, либо +7, либо опущен; код оператора может быть любой:\n",
        "\n",
        "- 89160000000\n",
        "- +79160000000\n",
        "- 9160000000\n",
        "- 8(916)000-00-00\n",
        "- +7(916)000-00-00\n",
        "- (916)000-00-00\n",
        "- 8 (916) 000-00-00\n",
        "- +7 (916) 000-00-00\n",
        "- (916) 000-00-00\n",
        "- 8(916)0000000\n",
        "- +7(916)0000000\n",
        "- (916)0000000\n",
        "- 8-916-000-00-00\n",
        "- +7-916-000-00-00\n",
        "- 916-000-00-00\n",
        "\n",
        "Валидным адресом электронной почты будем считать строки, содержащие @ и не меньше одной точки (после точки - не меньше двух символов), например:\n",
        "\n",
        "- abc@abc.ab\n",
        "- abc@abc.ab.ab\n",
        "- a@ab.ab\n",
        "- abc.abc@abc.abc\n",
        "\n",
        "Невалидные адреса:\n",
        "- @abc.abc\n",
        "- abc@abc\n",
        "- abc@abc.a\n",
        "- abc@abc.abc.a\n",
        "- abc@abc.\n",
        "- abc@abc@abc"
      ],
      "metadata": {
        "id": "LD9TiBw0OE5X"
      }
    },
    {
      "cell_type": "code",
      "execution_count": null,
      "metadata": {
        "id": "4cTXSjBKNobe"
      },
      "outputs": [],
      "source": [
        "import re\n",
        "\n",
        "def check_string(string: str) -> bool:\n",
        "    # Регулярное выражение для проверки номера телефона\n",
        "    phone_pattern = r'^(?:\\+7|7|8)?[-\\s]?(\\(?\\d{3}\\)?|(\\d{3}))[-\\s]?(\\d{3})[-\\s]?(\\d{2})[-\\s]?(\\d{2})$'\n",
        "\n",
        "    # Регулярное выражение для проверки адреса электронной почты\n",
        "    email_pattern = r'^[a-zA-Z0-9._%+-]+@[a-zA-Z0-9.-]+\\.[a-zA-Z]{2,}$'\n",
        "\n",
        "    # Проверяем, соответствует ли строка формату номера телефона или электронной почты\n",
        "    return bool(re.match(phone_pattern, string)) or bool(re.match(email_pattern, string))\n"
      ]
    },
    {
      "cell_type": "markdown",
      "source": [
        "##**Файлы. Популярные имена**\n",
        "\n",
        "Напишите функцию `get_popular_name_from_file(filename)`, которая считывает файл, в котором в каждой строке записаны имя и фамилия через пробел. filename - это имя файла, в котором записаны эти имена. Вам нужно вернуть строку - самое популярное имя в файле. Если таких имен несколько, они должны быть перечислены через запятую внутри строки в алфавитном порядке.\n",
        "\n",
        "###**Пример содержимого файла (example.txt)**:\n",
        "\n",
        "Джо Байден\n",
        "- Владимир Добрый\n",
        "- Владимир Злой\n",
        "- Джо Буш\n",
        "- Илон Маск\n",
        "\n",
        "###**Пример использования**\n",
        "\n",
        "```\n",
        "get_popular_name_from_file(\"example.txt\")  # Должна вернуть: Владимир, Джо\n",
        "```"
      ],
      "metadata": {
        "id": "ilzGBpmIOTNQ"
      }
    },
    {
      "cell_type": "code",
      "source": [
        "def get_popular_name_from_file(filename):\n",
        "    from collections import Counter\n",
        "\n",
        "    # Словарь для хранения количества вхождений имен\n",
        "    name_counter = Counter()\n",
        "\n",
        "    # Читаем файл и заполняем счетчик\n",
        "    with open(filename, 'r', encoding='utf-8') as file:\n",
        "        for line in file:\n",
        "            # Извлекаем имя (первое слово в строке)\n",
        "            first_name = line.split()[0]\n",
        "            name_counter[first_name] += 1\n",
        "\n",
        "    # Находим максимальное количество вхождений\n",
        "    max_count = max(name_counter.values())\n",
        "\n",
        "    # Собираем все имена с максимальным количеством вхождений\n",
        "    most_popular_names = [name for name, count in name_counter.items() if count == max_count]\n",
        "\n",
        "    # Сортируем имена в алфавитном порядке и объединяем в строку\n",
        "    return ', '.join(sorted(most_popular_names))\n",
        "\n"
      ],
      "metadata": {
        "id": "pUW-9kDQOY4h"
      },
      "execution_count": null,
      "outputs": []
    },
    {
      "cell_type": "markdown",
      "source": [
        "##**JSON. Парсинг возраста**\n",
        "\n",
        "Задачи, аналогичные этой, часто встречаются в реальной веб-разработке. Будем получать и отдавать JSONы. К вам поступают данные в виде json-строки, в которых содержится список людей. Для каждого человека описаны различные его параметры, но вам нужно посчитать просто средний возраст всех людей из списка. Напишите функцию `mean_age(json_string)`, которая принимает json строку, считает средний возраст людей из входных данных и возвращает новую json-строку в том формате, который указан ниже.\n",
        "\n",
        "####**Формат входной json-строки**:\n",
        "```\n",
        "    [\n",
        "        {\n",
        "            \"name\": \"Петр\",\n",
        "            \"surname\": \"Петров\",\n",
        "            \"patronymic\": \"Васильевич\",\n",
        "            \"age\": 23,\n",
        "            \"occupation\": \"ойтишнек\"\n",
        "        },\n",
        "        {\n",
        "            \"name\": \"Василий\",\n",
        "            \"surname\": \"Васильев\",\n",
        "            \"patronymic\": \"Петрович\",\n",
        "            \"age\": 24,\n",
        "            \"occupation\": \"дворник\"\n",
        "        }\n",
        "    ]\n",
        "```\n",
        "\n",
        "###**Пример использования**\n",
        "```\n",
        "mean_age(json_string)  # Должна вернуть {\"mean_age\": 23.5}\n",
        "```"
      ],
      "metadata": {
        "id": "glenbfT5ObyJ"
      }
    },
    {
      "cell_type": "code",
      "source": [
        "import json\n",
        "\n",
        "def mean_age(json_string):\n",
        "    # Парсим входную JSON строку\n",
        "    people = json.loads(json_string)\n",
        "\n",
        "    # Извлекаем возраст всех людей\n",
        "    ages = [person['age'] for person in people if 'age' in person]\n",
        "\n",
        "    # Вычисляем средний возраст\n",
        "    if ages:\n",
        "        average_age = sum(ages) / len(ages)\n",
        "    else:\n",
        "        average_age = 0  # Если нет людей, возвращаем 0\n",
        "\n",
        "    # Формируем результат в виде словаря\n",
        "    result = {\"mean_age\": average_age}\n",
        "\n",
        "    # Возвращаем результат в виде JSON строки\n",
        "    return json.dumps(result)"
      ],
      "metadata": {
        "id": "NCD814hYQL_g"
      },
      "execution_count": null,
      "outputs": []
    },
    {
      "cell_type": "markdown",
      "source": [
        "##**YAML. Создание YAML-конфигурации для бота**\n",
        "\n",
        "Реализуйте функцию `create_config(bot_id, bot_token, *commands)`, которая создает YAML-конфигурацию для бота, используя модуль yaml. Конфигурация должна содержать следующие данные:\n",
        "\n",
        "- bot_id: Идентификатор бота (строка).\n",
        "- bot_token: Токен доступа к боту (строка).\n",
        "\n",
        "- commands: Одна или несколько команд, каждая из которых представлена словарем с ключами:\n",
        "\n",
        "- description: Описание команды (строка).\n",
        "- function: Имя функции, которая будет вызываться при выполнении команды (строка).\n",
        "\n",
        "Функция должна вернуть YAML-конфигурацию бота.\n",
        "\n",
        "###**Пример использования**\n",
        "\n",
        "- bot_id = \"457\"\n",
        "- bot_token = \"1249774028390\"\n",
        "\n",
        "###**Пример команд**\n",
        "```\n",
        "commands = [\n",
        "    (\"Приветствие\", \"greet_user\"),\n",
        "    (\"Получить прогноз погоды\", \"get_weather\")\n",
        "]\n",
        "\n",
        "create_config(bot_id, bot_token, *commands)\n",
        "```\n",
        "\n",
        "####**Функция должна вернуть**:\n",
        "```\n",
        "bot_id: 457\n",
        "bot_token: 1249774028390\n",
        "commands:\n",
        "- description: Приветствие\n",
        "  function: greet_user\n",
        "- description: Получить прогноз погоды\n",
        "  function: get_weather\n",
        "```"
      ],
      "metadata": {
        "id": "F-zkBIo1Wdgb"
      }
    },
    {
      "cell_type": "code",
      "source": [
        "import yaml\n",
        "\n",
        "def create_config(bot_id, bot_token, *commands):\n",
        "    # Формируем базовую структуру конфигурации\n",
        "    config = {\n",
        "        'bot_id': bot_id,\n",
        "        'bot_token': bot_token,\n",
        "        'commands': []\n",
        "    }\n",
        "\n",
        "    # Заполняем команды\n",
        "    for command in commands:\n",
        "        description, function = command\n",
        "        config['commands'].append({\n",
        "            'description': description,\n",
        "            'function': function\n",
        "        })\n",
        "\n",
        "    # Конвертируем в YAML\n",
        "    yaml_config = yaml.dump(config, default_flow_style=False, allow_unicode=True)\n",
        "\n",
        "    return yaml_config\n"
      ],
      "metadata": {
        "id": "tBjEESxLW9iE"
      },
      "execution_count": null,
      "outputs": []
    }
  ]
}